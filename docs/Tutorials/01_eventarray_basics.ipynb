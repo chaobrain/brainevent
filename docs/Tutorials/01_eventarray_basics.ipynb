{
 "cells": [
  {
   "cell_type": "markdown",
   "metadata": {},
   "source": [
    "# Tutorial 1: Getting Started with BrainEvent - EventArray Basics\n",
    "\n",
    "Welcome to the BrainEvent tutorial series! This tutorial will introduce you to BrainEvent's core data structure - **EventArray**, and how to use it for efficient event-driven computation.\n",
    "\n",
    "## 1. What is EventArray?\n",
    "\n",
    "In neuroscience modeling, brain computation is performed through **discrete spike events**. These spike events are binary (0 or 1), indicating whether a neuron fires at a specific moment.\n",
    "\n",
    "`EventArray`  is the core data structure provided by BrainEvent for representing these binary event arrays. After wrapping your data with `EventArray`, subsequent matrix operations will automatically leverage event-driven optimization algorithms, significantly improving computational efficiency.\n",
    "\n",
    "### Core Advantages\n",
    "- ✅ **Automatic Optimization**: Automatically leverage data sparsity for efficient computation\n",
    "- ✅ **Hardware Acceleration**: Support for multiple hardware platforms including CPU, GPU, TPU\n",
    "- ✅ **Seamless Integration**: Fully compatible with JAX/NumPy ecosystem\n",
    "- ✅ **Physical Units**: Support for BrainUnit's unit-aware computation"
   ]
  },
  {
   "cell_type": "markdown",
   "metadata": {},
   "source": [
    "## 2. Installation and Import\n",
    "\n",
    "First, make sure you have BrainEvent installed:"
   ]
  },
  {
   "cell_type": "code",
   "execution_count": null,
   "metadata": {},
   "outputs": [],
   "source": [
    "# Install BrainEvent\n",
    "# !pip install brainevent -U\n",
    "\n",
    "# Or install the complete BrainX ecosystem\n",
    "# !pip install BrainX -U"
   ]
  },
  {
   "cell_type": "code",
   "metadata": {
    "ExecuteTime": {
     "end_time": "2025-10-21T06:25:28.334552Z",
     "start_time": "2025-10-21T06:25:28.326448Z"
    }
   },
   "source": [
    "import brainevent\n",
    "import brainstate\n",
    "import jax.numpy as jnp\n",
    "import numpy as np\n",
    "import jax\n",
    "\n",
    "print(f\"BrainEvent version: {brainevent.__version__}\")\n",
    "print(f\"JAX version: {jax.__version__}\")"
   ],
   "outputs": [
    {
     "name": "stdout",
     "output_type": "stream",
     "text": [
      "BrainEvent version: 0.0.4\n",
      "JAX version: 0.7.2\n"
     ]
    }
   ],
   "execution_count": 53
  },
  {
   "cell_type": "markdown",
   "metadata": {},
   "source": [
    "## 3. Creating EventArray\n",
    "\n",
    "### 3.1 Creating from Regular Arrays\n",
    "\n",
    "`EventArray` Can be created from NumPy arrays, JAX arrays, or Python lists:"
   ]
  },
  {
   "cell_type": "code",
   "metadata": {
    "ExecuteTime": {
     "end_time": "2025-10-21T06:25:31.443378Z",
     "start_time": "2025-10-21T06:25:31.436863Z"
    }
   },
   "source": [
    "# Create from list\n",
    "event1 = brainevent.EventArray([1, 0, 1, 1, 0, 0, 1])\n",
    "print(\"EventArray from list:\")\n",
    "print(event1)\n",
    "print(f\"Shape: {event1.shape}, dtype: {event1.dtype}\")\n",
    "print()"
   ],
   "outputs": [
    {
     "name": "stdout",
     "output_type": "stream",
     "text": [
      "EventArray from list:\n",
      "BinaryArray(value=Array([1, 0, 1, 1, 0, 0, 1]), dtype=int32)\n",
      "Shape: (7,), dtype: int32\n",
      "\n"
     ]
    }
   ],
   "execution_count": 54
  },
  {
   "cell_type": "code",
   "metadata": {
    "ExecuteTime": {
     "end_time": "2025-10-21T06:25:33.600554Z",
     "start_time": "2025-10-21T06:25:33.596033Z"
    }
   },
   "source": [
    "# Create from NumPy array\n",
    "np_array = np.array([[1, 0, 1], [0, 1, 0]], dtype=bool)\n",
    "event2 = brainevent.EventArray(np_array)\n",
    "print(\"EventArray from NumPy array:\")\n",
    "print(event2)\n",
    "print()"
   ],
   "outputs": [
    {
     "name": "stdout",
     "output_type": "stream",
     "text": [
      "EventArray from NumPy array:\n",
      "BinaryArray(value=Array([[ True, False,  True],\n",
      "                         [False,  True, False]]),\n",
      "            dtype=bool)\n",
      "\n"
     ]
    }
   ],
   "execution_count": 55
  },
  {
   "cell_type": "code",
   "metadata": {
    "ExecuteTime": {
     "end_time": "2025-10-21T06:25:35.551602Z",
     "start_time": "2025-10-21T06:25:35.548090Z"
    }
   },
   "source": [
    "# Create from JAX array\n",
    "jax_array = jnp.array([1, 1, 0, 1], dtype=bool)\n",
    "event3 = brainevent.EventArray(jax_array)\n",
    "print(\"EventArray from JAX array:\")\n",
    "print(event3)"
   ],
   "outputs": [
    {
     "name": "stdout",
     "output_type": "stream",
     "text": [
      "EventArray from JAX array:\n",
      "BinaryArray(value=Array([ True,  True, False,  True]), dtype=bool)\n"
     ]
    }
   ],
   "execution_count": 56
  },
  {
   "cell_type": "markdown",
   "metadata": {},
   "source": [
    "### 3.2 Simulating Neuron Spikes\n",
    "\n",
    "In practical applications, `EventArray` typically used to represent neuron spike firing patterns:"
   ]
  },
  {
   "cell_type": "code",
   "metadata": {
    "ExecuteTime": {
     "end_time": "2025-10-21T06:25:38.358675Z",
     "start_time": "2025-10-21T06:25:38.325637Z"
    }
   },
   "source": [
    "# Simulate spike states of 10 neurons at a moment\n",
    "# 1 indicates firing spike, 0 indicates resting\n",
    "num_neurons = 10\n",
    "spike_rate = 0.3  # 30%的神经元fired \n",
    "\n",
    "# Use brainstate.random to generate spike patterns\n",
    "brainstate.random.seed(0)\n",
    "spikes = brainstate.random.bernoulli(spike_rate, size=(num_neurons,))\n",
    "spike_array = brainevent.EventArray(spikes)\n",
    "\n",
    "print(f\"Neuron spike pattern (firing rate={spike_rate}):\")\n",
    "print(spike_array)\n",
    "print(f\"Number of firing neurons: {spike_array.sum()}\")"
   ],
   "outputs": [
    {
     "name": "stdout",
     "output_type": "stream",
     "text": [
      "Neuron spike pattern (firing rate=0.3):\n",
      "BinaryArray(value=Array([ True,  True, False, False,  True,  True,  True, False,  True,\n",
      "                         False]),\n",
      "            dtype=bool)\n",
      "Number of firing neurons: 6\n"
     ]
    }
   ],
   "execution_count": 57
  },
  {
   "cell_type": "markdown",
   "metadata": {},
   "source": [
    "## 4. Basic Operations of EventArray\n",
    "\n",
    "### 4.1 Access and Indexing"
   ]
  },
  {
   "cell_type": "code",
   "metadata": {
    "ExecuteTime": {
     "end_time": "2025-10-21T06:25:41.084271Z",
     "start_time": "2025-10-21T06:25:41.079252Z"
    }
   },
   "source": [
    "# Create a 2D EventArray\n",
    "events_2d = brainevent.EventArray([\n",
    "    [1, 0, 1, 0],\n",
    "    [0, 1, 1, 0],\n",
    "    [1, 1, 0, 1]\n",
    "])\n",
    "\n",
    "print(\"Original EventArray:\")\n",
    "print(events_2d)\n",
    "print()\n",
    "\n",
    "# Indexing operations\n",
    "print(\"First row:\", events_2d[0])\n",
    "print(\"Second column:\", events_2d[:, 1])\n",
    "print(\"Submatrix:\", events_2d[1:, :2])"
   ],
   "outputs": [
    {
     "name": "stdout",
     "output_type": "stream",
     "text": [
      "Original EventArray:\n",
      "BinaryArray(value=Array([[1, 0, 1, 0],\n",
      "                         [0, 1, 1, 0],\n",
      "                         [1, 1, 0, 1]]),\n",
      "            dtype=int32)\n",
      "\n",
      "First row: [1 0 1 0]\n",
      "Second column: [0 1 1]\n",
      "Submatrix: [[0 1]\n",
      " [1 1]]\n"
     ]
    }
   ],
   "execution_count": 58
  },
  {
   "cell_type": "markdown",
   "metadata": {},
   "source": [
    "### 4.2 Mathematical Operations"
   ]
  },
  {
   "cell_type": "code",
   "metadata": {
    "ExecuteTime": {
     "end_time": "2025-10-21T06:25:44.220392Z",
     "start_time": "2025-10-21T06:25:44.214425Z"
    }
   },
   "source": [
    "# Basic statistics\n",
    "print(\"Total spikes:\", events_2d.sum())\n",
    "print(\"Spikes per row:\", events_2d.sum(axis=1))\n",
    "print(\"Spikes per column:\", events_2d.sum(axis=0))\n",
    "print()\n",
    "\n",
    "# Logical operations\n",
    "event_a = brainevent.EventArray([1, 0, 1, 0])\n",
    "event_b = brainevent.EventArray([1, 1, 0, 0])\n",
    "\n",
    "print(\"Event A:\", event_a)\n",
    "print(\"Event B:\", event_b)\n",
    "print(\"A AND B:\", event_a & event_b)\n",
    "print(\"A OR B:\", event_a | event_b)"
   ],
   "outputs": [
    {
     "name": "stdout",
     "output_type": "stream",
     "text": [
      "Total spikes: 7\n",
      "Spikes per row: [2 2 3]\n",
      "Spikes per column: [2 2 2 1]\n",
      "\n",
      "Event A: BinaryArray(value=Array([1, 0, 1, 0]), dtype=int32)\n",
      "Event B: BinaryArray(value=Array([1, 1, 0, 0]), dtype=int32)\n",
      "A AND B: [1 0 0 0]\n",
      "A OR B: [1 1 1 0]\n"
     ]
    }
   ],
   "execution_count": 59
  },
  {
   "cell_type": "markdown",
   "metadata": {},
   "source": [
    "## 5. Event-driven matrix multiplication\n",
    "\n",
    "This is `EventArray`'s most powerful feature! When `EventArray` is multiplied with a matrix, BrainEvent automatically leverages event sparsity for optimization.\n",
    "\n",
    "### 5.1 Multiplication with Dense Matrix"
   ]
  },
  {
   "cell_type": "code",
   "metadata": {
    "ExecuteTime": {
     "end_time": "2025-10-21T06:25:47.659812Z",
     "start_time": "2025-10-21T06:25:47.654165Z"
    }
   },
   "source": [
    "# Create EventArray (simulating presynaptic neuron spikes)\n",
    "pre_spikes = brainevent.EventArray([1, 0, 1, 0, 1])  # 5 neurons\n",
    "\n",
    "# Create weight matrix (5 presynaptic -> 3 postsynaptic)\n",
    "weights = jnp.array([\n",
    "    [0.5, 0.2, 0.1],  # neuron 0 -> post neurons\n",
    "    [0.3, 0.4, 0.2],  # neuron 1 -> post neurons\n",
    "    [0.1, 0.5, 0.3],  # neuron 2 -> post neurons\n",
    "    [0.2, 0.1, 0.4],  # neuron 3 -> post neurons\n",
    "    [0.4, 0.3, 0.5],  # neuron 4 -> post neurons\n",
    "])\n",
    "\n",
    "# Event-driven matrix multiplication\n",
    "# Only neurons that fired spikes(索引0, 2, 4)corresponding rows participate in computation\n",
    "post_input = pre_spikes @ weights\n",
    "\n",
    "print(\"Presynaptic spikes:\", pre_spikes)\n",
    "print(\"Weight matrix shape:\", weights.shape)\n",
    "print(\"Postsynaptic input:\", post_input)\n",
    "print()\n",
    "print(\"Explanation: Only neurons0, 2, 4fired spikes, so only these 3rows are computed for weighted sum\")"
   ],
   "outputs": [
    {
     "name": "stdout",
     "output_type": "stream",
     "text": [
      "Presynaptic spikes: BinaryArray(value=Array([1, 0, 1, 0, 1]), dtype=int32)\n",
      "Weight matrix shape: (5, 3)\n",
      "Postsynaptic input: [1.  1.  0.9]\n",
      "\n",
      "Explanation: Only neurons0, 2, 4fired spikes, so only these 3rows are computed for weighted sum\n"
     ]
    }
   ],
   "execution_count": 60
  },
  {
   "cell_type": "markdown",
   "metadata": {},
   "source": [
    "### 5.2 Performance Comparison: EventArray vs Regular Array\n",
    "\n",
    "Let's compare using `EventArray` and regular arrays in performance:"
   ]
  },
  {
   "cell_type": "code",
   "metadata": {
    "ExecuteTime": {
     "end_time": "2025-10-21T06:25:51.173316Z",
     "start_time": "2025-10-21T06:25:50.435912Z"
    }
   },
   "source": [
    "import time\n",
    "\n",
    "# Large-scale network parameters\n",
    "n_pre = 10000   # Number of presynaptic neurons\n",
    "n_post = 5000   # Number of postsynaptic neurons\n",
    "spike_rate = 0.05  # 5% firing rate (sparse spikes)\n",
    "\n",
    "# Set random seed for reproducibility\n",
    "brainstate.random.seed(42)\n",
    "\n",
    "# Generate sparse spikes\n",
    "spikes_bool = brainstate.random.bernoulli(spike_rate, size=(n_pre,))\n",
    "\n",
    "# Generate weight matrix\n",
    "weights = brainstate.random.normal(size=(n_pre, n_post)) * 0.1\n",
    "\n",
    "# Method 1: Using EventArray (event-driven)\n",
    "event_spikes = brainevent.EventArray(spikes_bool)\n",
    "\n",
    "# Method 2: Using regular array\n",
    "normal_spikes = spikes_bool.astype(jnp.float32)\n",
    "\n",
    "# Warmup and compilation\n",
    "_ = jax.block_until_ready(event_spikes @ weights)\n",
    "_ = jax.block_until_ready(normal_spikes @ weights)\n",
    "\n",
    "# Performance test\n",
    "n_trials = 100\n",
    "\n",
    "# EventArray method\n",
    "start = time.time()\n",
    "for _ in range(n_trials):\n",
    "    result_event = jax.block_until_ready(event_spikes @ weights)\n",
    "event_time = (time.time() - start) / n_trials\n",
    "\n",
    "# Regular array method\n",
    "start = time.time()\n",
    "for _ in range(n_trials):\n",
    "    result_normal = jax.block_until_ready(normal_spikes @ weights)\n",
    "normal_time = (time.time() - start) / n_trials\n",
    "\n",
    "print(f\"Network size: {n_pre} -> {n_post} neurons\")\n",
    "print(f\"Spike firing rate: {spike_rate*100}%\")\n",
    "print(f\"Actual firing count: {spikes_bool.sum()}\")\n",
    "print()\n",
    "print(f\"EventArray time: {event_time*1000:.3f} ms\")\n",
    "print(f\"Regular array time: {normal_time*1000:.3f} ms\")\n",
    "print(f\"Speedup: {normal_time/event_time:.2f}x\")\n",
    "print()\n",
    "print(\"Result consistency check:\", jnp.allclose(result_event, result_normal))"
   ],
   "outputs": [
    {
     "name": "stdout",
     "output_type": "stream",
     "text": [
      "Network size: 10000 -> 5000 neurons\n",
      "Spike firing rate: 5.0%\n",
      "Actual firing count: 516\n",
      "\n",
      "EventArray time: 0.685 ms\n",
      "Regular array time: 3.768 ms\n",
      "Speedup: 5.50x\n",
      "\n",
      "Result consistency check: True\n"
     ]
    }
   ],
   "execution_count": 61
  },
  {
   "cell_type": "markdown",
   "metadata": {},
   "source": [
    "## 6. Practical Application Example: Feedforward Network\n",
    "\n",
    "Let's build a simple two-layer feedforward spiking neural network:"
   ]
  },
  {
   "cell_type": "code",
   "metadata": {
    "ExecuteTime": {
     "end_time": "2025-10-21T06:25:57.544760Z",
     "start_time": "2025-10-21T06:25:57.525234Z"
    }
   },
   "source": [
    "class SimpleSpikingNetwork:\n",
    "    \"\"\"Simple two-layer spiking neural network\"\"\"\n",
    "    \n",
    "    def __init__(self, n_input, n_hidden, n_output, seed=0):\n",
    "        self.n_input = n_input\n",
    "        self.n_hidden = n_hidden\n",
    "        self.n_output = n_output\n",
    "        \n",
    "        # Initialize weights - using brainstate.random\n",
    "        brainstate.random.seed(seed)\n",
    "        self.w1 = brainstate.random.normal(size=(n_input, n_hidden)) * 0.1\n",
    "        self.w2 = brainstate.random.normal(size=(n_hidden, n_output)) * 0.1\n",
    "    \n",
    "    def forward(self, input_spikes):\n",
    "        \"\"\"Forward propagation\n",
    "        \n",
    "        Args:\n",
    "            input_spikes: EventArray，Input layer spikes\n",
    "        \n",
    "        Returns:\n",
    "            Output layer activity values\n",
    "        \"\"\"\n",
    "        # First layer: Input -> Hidden\n",
    "        hidden_input = input_spikes @ self.w1\n",
    "        \n",
    "        # Hidden layer neurons: simple threshold activation\n",
    "        threshold = 0.5\n",
    "        hidden_spikes = brainevent.EventArray(hidden_input > threshold)\n",
    "        \n",
    "        # Second layer: Hidden -> Output\n",
    "        output = hidden_spikes @ self.w2\n",
    "        \n",
    "        return output, hidden_spikes\n",
    "\n",
    "# Create network\n",
    "network = SimpleSpikingNetwork(n_input=20, n_hidden=10, n_output=5, seed=123)\n",
    "\n",
    "# Generate input spikes\n",
    "brainstate.random.seed(456)\n",
    "input_pattern = brainstate.random.bernoulli(0.3, size=(20,))\n",
    "input_events = brainevent.EventArray(input_pattern)\n",
    "\n",
    "# Forward propagation\n",
    "output, hidden_spikes = network.forward(input_events)\n",
    "\n",
    "print(\"Input layer spikes:\", input_events)\n",
    "print(f\"Input layer firing count: {input_events.sum()}/20\")\n",
    "print()\n",
    "print(\"Hidden layer spikes:\", hidden_spikes)\n",
    "print(f\"Hidden layer firing count: {hidden_spikes.sum()}/10\")\n",
    "print()\n",
    "print(\"Output layer activity:\")\n",
    "print(output)\n",
    "print(f\"Output neuron with strongest response: {jnp.argmax(output)}\")"
   ],
   "outputs": [
    {
     "name": "stdout",
     "output_type": "stream",
     "text": [
      "Input layer spikes: BinaryArray(value=Array([False, False,  True, False, False,  True, False, False, False,\n",
      "                         False,  True, False, False,  True,  True, False, False,  True,\n",
      "                         False,  True]),\n",
      "            dtype=bool)\n",
      "Input layer firing count: 7/20\n",
      "\n",
      "Hidden layer spikes: BinaryArray(value=Array([False, False, False, False, False, False, False, False, False,\n",
      "                         False]),\n",
      "            dtype=bool)\n",
      "Hidden layer firing count: 0/10\n",
      "\n",
      "Output layer activity:\n",
      "[0. 0. 0. 0. 0.]\n",
      "Output neuron with strongest response: 0\n"
     ]
    }
   ],
   "execution_count": 62
  },
  {
   "cell_type": "markdown",
   "metadata": {},
   "source": [
    "## 7. Time Series Spike Patterns\n",
    "\n",
    "In actual neural network simulations, we typically need to process time series spike data:"
   ]
  },
  {
   "cell_type": "code",
   "metadata": {
    "ExecuteTime": {
     "end_time": "2025-10-21T06:26:04.408157Z",
     "start_time": "2025-10-21T06:26:04.348900Z"
    }
   },
   "source": [
    "# Simulate 100 time steps, each step has 50 neurons\n",
    "n_steps = 100\n",
    "n_neurons = 50\n",
    "spike_rate = 0.1\n",
    "\n",
    "# Generate time series spikes\n",
    "brainstate.random.seed(999)\n",
    "spike_trains = brainstate.random.bernoulli(spike_rate, size=(n_steps, n_neurons))\n",
    "\n",
    "# Create EventArray for each time step and compute network output\n",
    "brainstate.random.seed(0)\n",
    "weights = brainstate.random.normal(size=(n_neurons, 10)) * 0.1\n",
    "\n",
    "outputs = []\n",
    "for t in range(n_steps):\n",
    "    spikes_t = brainevent.EventArray(spike_trains[t])\n",
    "    output_t = spikes_t @ weights\n",
    "    outputs.append(output_t)\n",
    "\n",
    "outputs = jnp.stack(outputs)\n",
    "\n",
    "print(f\"Time series length: {n_steps} steps\")\n",
    "print(f\"Neurons per step: {n_neurons}\")\n",
    "print(f\"Output shape: {outputs.shape}\")\n",
    "print()\n",
    "print(f\"Total spikes: {spike_trains.sum()}\")\n",
    "print(f\"Average spikes per step: {spike_trains.sum(axis=1).mean():.1f}\")\n",
    "print(f\"Average firing rate per neuron: {spike_trains.mean():.3f}\")"
   ],
   "outputs": [
    {
     "name": "stdout",
     "output_type": "stream",
     "text": [
      "Time series length: 100 steps\n",
      "Neurons per step: 50\n",
      "Output shape: (100, 10)\n",
      "\n",
      "Total spikes: 503\n",
      "Average spikes per step: 5.0\n",
      "Average firing rate per neuron: 0.101\n"
     ]
    }
   ],
   "execution_count": 63
  },
  {
   "cell_type": "markdown",
   "metadata": {},
   "source": [
    "## 8. Visualizing Spike Patterns\n",
    "\n",
    "Let's use `braintools` to visualize neuron spike firing patterns (raster plot):"
   ]
  },
  {
   "cell_type": "code",
   "metadata": {
    "ExecuteTime": {
     "end_time": "2025-10-21T06:26:16.559107Z",
     "start_time": "2025-10-21T06:26:16.482934Z"
    }
   },
   "source": [
    "import braintools\n",
    "\n",
    "# Generate spike patterns\n",
    "n_steps = 200\n",
    "n_neurons = 30\n",
    "\n",
    "brainstate.random.seed(456)\n",
    "spike_trains = brainstate.random.bernoulli(0.15, size=(n_steps, n_neurons))\n",
    "\n",
    "# Use braintools.visualize.raster_plot to draw raster plot\n",
    "ts = np.arange(n_steps)\n",
    "\n",
    "braintools.visualize.raster_plot(\n",
    "    ts,\n",
    "    spike_trains,\n",
    "    markersize=4,\n",
    "    xlabel='Time Step',\n",
    "    ylabel='Neuron ID',\n",
    "    title='Spike Raster Plot - 30 Neurons over 200 Time Steps',\n",
    "    xlim=(0, n_steps),\n",
    "    ylim=(-1, n_neurons),\n",
    "    show=True\n",
    ")\n",
    "\n",
    "# Statistics\n",
    "print(f\"Total spikes: {spike_trains.sum()}\")\n",
    "print(f\"Average firing rate: {spike_trains.mean():.3f}\")\n",
    "print(f\"Most active neuron: {spike_trains.sum(axis=0).argmax()}, fired {spike_trains.sum(axis=0).max()} times\")"
   ],
   "outputs": [
    {
     "data": {
      "text/plain": [
       "<Figure size 640x480 with 1 Axes>"
      ],
      "image/png": "[encoded data removed]"
     },
     "metadata": {},
     "output_type": "display_data",
     "jetTransient": {
      "display_id": null
     }
    },
    {
     "name": "stdout",
     "output_type": "stream",
     "text": [
      "Total spikes: 904\n",
      "Average firing rate: 0.151\n",
      "Most active neuron: 20, fired 39 times\n"
     ]
    }
   ],
   "execution_count": 64
  },
  {
   "cell_type": "markdown",
   "metadata": {},
   "source": [
    "## 9. Summary\n",
    "\n",
    "In this tutorial, we learned:\n",
    "\n",
    "1. ✅ **EventArray Concept**: Core data structure for representing binary spike events\n",
    "2. ✅ **Creating EventArray**: Creating from lists, NumPy arrays, JAX arrays\n",
    "3. ✅ **Basic Operations**: Indexing, statistics, logical operations\n",
    "4. ✅ **Event-driven Computation**: Leveraging sparsity to optimize matrix multiplication\n",
    "5. ✅ **Performance Advantages**: EventArray's acceleration effect in sparse spike scenarios\n",
    "6. ✅ **Practical Applications**: Building simple spiking neural networks\n",
    "7. ✅ **Time Series Processing**: Processing multi-step time series spike data\n",
    "8. ✅ **Visualization**: Using braintools to draw spike raster plots\n",
    "\n",
    "## Next steps\n",
    "\n",
    "In the next tutorial, we will dive deeper into:\n",
    "- 📚 **Tutorial 2**: Sparse Data Structures - CSR, COO, CSC\n",
    "- Learn how to use different sparse matrix formats to represent neural network connections\n",
    "- Learn how to choose appropriate data structures for optimal performance\n",
    "\n",
    "## References\n",
    "\n",
    "- 💻 [GitHubRepository](https://github.com/chaobrain/brainevent)\n",
    "- 🌐 [Brain modeling ecosystem](https://brainmodeling.readthedocs.io/)"
   ]
  }
 ],
 "metadata": {
  "kernelspec": {
   "display_name": "Python 3",
   "language": "python",
   "name": "python3"
  },
  "language_info": {
   "name": "python",
   "version": "3.10.0"
  }
 },
 "nbformat": 4,
 "nbformat_minor": 4
}
